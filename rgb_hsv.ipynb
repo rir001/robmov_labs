{
 "cells": [
  {
   "cell_type": "code",
   "execution_count": 1,
   "metadata": {},
   "outputs": [],
   "source": [
    "import matplotlib.pyplot as plt\n",
    "import numpy as np\n",
    "import colorsys\n",
    "import cv2"
   ]
  },
  {
   "cell_type": "code",
   "execution_count": 146,
   "metadata": {},
   "outputs": [],
   "source": [
    "image = cv2.imread(\"sas.png\")\n",
    "image_rgb = cv2.cvtColor(image, cv2.COLOR_BGR2RGB)"
   ]
  },
  {
   "cell_type": "code",
   "execution_count": 154,
   "metadata": {},
   "outputs": [],
   "source": [
    "def filter_image(rgb_image):\n",
    "    image_hsv = cv2.cvtColor(rgb_image, cv2.COLOR_RGB2HSV)\n",
    "\n",
    "    mask_H = (image_hsv[:, :, 0] <= 130) * (image_hsv[:, :, 0] >= 100)\n",
    "    mask_S = (image_hsv[:, :, 1] <= 200) * (image_hsv[:, :, 1] >= 120)\n",
    "    mask_V = (image_hsv[:, :, 2] <= 300) * (image_hsv[:, :, 2] >= 0)\n",
    "\n",
    "    out = rgb_image.copy()\n",
    "    out[:, :, 0] = out[:, :, 0] * mask_H * mask_S * mask_V\n",
    "    out[:, :, 1] = out[:, :, 1] * mask_H * mask_S * mask_V\n",
    "    out[:, :, 2] = out[:, :, 2] * mask_H * mask_S * mask_V\n",
    "\n",
    "    kernel = np.array([\n",
    "        [1, 1, 1, 1, 1],\n",
    "        [1, 1, 1, 1, 1],\n",
    "        [1, 1, 1, 1, 1],\n",
    "        [1, 1, 1, 1, 1],\n",
    "        [1, 1, 1, 1, 1],\n",
    "    ])\n",
    "\n",
    "    return cv2.morphologyEx(out, cv2.MORPH_OPEN, kernel)\n",
    "\n",
    "\n",
    "def get_margin(image):\n",
    "    step = 3\n",
    "    t, b, l, r = 0, 0, 0, 0\n",
    "    for y in range(0, image.shape[0], step):\n",
    "        if np.sum(image[y, :]) > 0 and not t:\n",
    "            t = y\n",
    "        if np.sum(image[image.shape[0] - y - 1, :]) > 0 and not b:\n",
    "            b = y\n",
    "\n",
    "    for x in range(0, image.shape[1], step):\n",
    "        if np.sum(image[:, x]) > 0 and not l:\n",
    "            l = x\n",
    "        if np.sum(image[:, image.shape[1] - x - 1]) > 0 and not r:\n",
    "            r = image.shape[1] - x\n",
    "\n",
    "    return t, b, l, r"
   ]
  },
  {
   "cell_type": "code",
   "execution_count": 155,
   "metadata": {},
   "outputs": [
    {
     "data": {
      "text/plain": [
       "<matplotlib.image.AxesImage at 0x1cd00c768a0>"
      ]
     },
     "execution_count": 155,
     "metadata": {},
     "output_type": "execute_result"
    },
    {
     "data": {
      "image/png": "[encoded data removed]",
      "text/plain": [
       "<Figure size 640x480 with 1 Axes>"
      ]
     },
     "metadata": {},
     "output_type": "display_data"
    }
   ],
   "source": [
    "t, b, l, r = get_margin(filter_image(image_rgb))\n",
    "\n",
    "plt.imshow(image_rgb[t:b, l:r])"
   ]
  }
 ],
 "metadata": {
  "kernelspec": {
   "display_name": "Python 3",
   "language": "python",
   "name": "python3"
  },
  "language_info": {
   "codemirror_mode": {
    "name": "ipython",
    "version": 3
   },
   "file_extension": ".py",
   "mimetype": "text/x-python",
   "name": "python",
   "nbconvert_exporter": "python",
   "pygments_lexer": "ipython3",
   "version": "3.12.3"
  }
 },
 "nbformat": 4,
 "nbformat_minor": 2
}
